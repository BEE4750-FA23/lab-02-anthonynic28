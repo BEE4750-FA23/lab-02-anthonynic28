{
  "cells": [
    {
      "cell_type": "markdown",
      "metadata": {},
      "source": [
        "# BEE 4750 Lab 2: Uncertainty and Monte Carlo"
      ],
      "id": "8aa68d33-b0fa-446f-925c-b2950a64b406"
    },
    {
      "cell_type": "markdown",
      "metadata": {},
      "source": [
        "**Name**:\n",
        "\n",
        "**ID**:"
      ],
      "id": "2688d980-7377-4050-b2ae-ef18f53c60b4"
    },
    {
      "cell_type": "markdown",
      "metadata": {},
      "source": [
        "> **Due Date**\n",
        ">\n",
        "> Friday, 9/22/23, 9:00pm\n",
        "\n",
        "## Setup\n",
        "\n",
        "The following code should go at the top of most Julia scripts; it will\n",
        "load the local package environment and install any needed packages. You\n",
        "will see this often and shouldn’t need to touch it."
      ],
      "id": "73942bb3-8d25-4fa9-a86b-041a4e31acac"
    },
    {
      "cell_type": "code",
      "execution_count": 1,
      "metadata": {},
      "outputs": [],
      "source": [
        "import Pkg\n",
        "Pkg.activate(\".\")\n",
        "Pkg.instantiate()"
      ],
      "id": "6386c831"
    },
    {
      "cell_type": "code",
      "execution_count": 2,
      "metadata": {},
      "outputs": [],
      "source": [
        "using Random # random number generation\n",
        "using Distributions # probability distributions and interface\n",
        "using Statistics # basic statistical functions, including mean\n",
        "using Plots # plotting"
      ],
      "id": "7a0eec40"
    },
    {
      "cell_type": "markdown",
      "metadata": {},
      "source": [
        "## Introduction\n",
        "\n",
        "In this lab, you will use Monte Carlo analysis to estimate the expected\n",
        "winnings for a couple of different games of chance.\n",
        "\n",
        "Monte Carlo methods involve the simulation of random numbers from\n",
        "probability distributions. In an environmental context, we often\n",
        "propagate these random numbers through some more complicated model and\n",
        "then compute a resulting statistic which is relevant for assessing\n",
        "performance or risk, such as an average outcome or a particular\n",
        "quantile.\n",
        "\n",
        "Julia provides a common interface for probability distributions with the\n",
        "[`Distributions.jl`\n",
        "package](https://juliastats.org/Distributions.jl/stable/). The basic\n",
        "workflow for sampling from a distribution is:\n",
        "\n",
        "1.  Set up the distribution. The specific syntax depends on the\n",
        "    distribution and what parameters are required, but the general call\n",
        "    is the similar. For a normal distribution or a uniform distribution,\n",
        "    the syntax is\n",
        "\n",
        "    ``` julia\n",
        "    # you don't have to name this \"normal_distribution\"\n",
        "    # μ is the mean and σ is the standard deviation\n",
        "    normal_distribution = Normal(μ, σ)\n",
        "    # a is the upper bound and b is the lower bound; these can be set to +Inf or -Inf for an unbounded distribution in one or both directions.\n",
        "    uniform_distribution = Uniform(a, b)\n",
        "    ```\n",
        "\n",
        "    There are lots of both\n",
        "    [univariate](https://juliastats.org/Distributions.jl/stable/univariate/#Index)\n",
        "    and\n",
        "    [multivariate](https://juliastats.org/Distributions.jl/stable/multivariate/)\n",
        "    distributions, as well as the ability to create your own, but we\n",
        "    won’t do anything too exotic here.\n",
        "\n",
        "2.  Draw samples. This uses the `rand()` command (which, when used\n",
        "    without a distribution, just samples uniformly from the interval\n",
        "    $[0, 1]$.) For example, to sample from our normal distribution\n",
        "    above:\n",
        "\n",
        "    ``` julia\n",
        "    # draw n samples\n",
        "    rand(normal_distribution, n)\n",
        "    ```\n",
        "\n",
        "Putting this together, let’s say that we wanted to simulate 100\n",
        "six-sided dice rolls. We could use a [Discrete Uniform\n",
        "distribution](https://juliastats.org/Distributions.jl/stable/univariate/#Distributions.DiscreteUniform)."
      ],
      "id": "77b345de-3a5d-4cd0-8599-edb1258b7b9e"
    },
    {
      "cell_type": "code",
      "execution_count": 3,
      "metadata": {},
      "outputs": [
        {
          "output_type": "display_data",
          "metadata": {},
          "data": {
            "text/plain": [
              "100-element Vector{Int64}:\n",
              " 4\n",
              " 1\n",
              " 3\n",
              " 5\n",
              " 1\n",
              " 6\n",
              " 4\n",
              " 1\n",
              " 1\n",
              " 1\n",
              " 5\n",
              " 2\n",
              " 2\n",
              " ⋮\n",
              " 4\n",
              " 1\n",
              " 1\n",
              " 1\n",
              " 3\n",
              " 4\n",
              " 3\n",
              " 6\n",
              " 2\n",
              " 6\n",
              " 6\n",
              " 3"
            ]
          }
        }
      ],
      "source": [
        "dice_dist = DiscreteUniform(1, 6) # can generate any integer between 1 and 6\n",
        "dice_rolls = rand(dice_dist, 100) # simulate rolls"
      ],
      "id": "ffec80a9"
    },
    {
      "cell_type": "markdown",
      "metadata": {},
      "source": [
        "And then we can plot a histogram of these rolls:"
      ],
      "id": "a7589f82-3f14-42de-ba3f-0891cce9321e"
    },
    {
      "cell_type": "code",
      "execution_count": 4,
      "metadata": {},
      "outputs": [
        {
          "output_type": "display_data",
          "metadata": {},
          "data": {
            "text/html": [
              "<img src=\"data:image/png;base64,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\" />"
            ]
          }
        }
      ],
      "source": [
        "histogram(dice_rolls, legend=:false, bins=6)\n",
        "ylabel!(\"Count\")\n",
        "xlabel!(\"Dice Value\")"
      ],
      "id": "b79eba8c"
    },
    {
      "cell_type": "markdown",
      "metadata": {},
      "source": [
        "**Remember to**:\n",
        "\n",
        "-   Evaluate all of your code cells, in order (using a `Run All`\n",
        "    command). This will make sure all output is visible and that the\n",
        "    code cells were evaluated in the correct order.\n",
        "-   Tag each of the problems when you submit to Gradescope; a 10%\n",
        "    penalty will be deducted if this is not done."
      ],
      "id": "b269f5e1-7ada-4025-9602-024d0981d2d4"
    },
    {
      "cell_type": "markdown",
      "metadata": {},
      "source": [
        "## Exercises (10 points)\n",
        "\n",
        "In Problem 1, you will compute the probability of getting a specific\n",
        "combination of multiple dice rolls. The focus will be on understanding\n",
        "how the Monte Carlo estimate changes based on the number of simulations.\n",
        "\n",
        "In Problem 2, we will implement the culmination of every episode of the\n",
        "long-running game show [The Price Is\n",
        "Right](https://en.wikipedia.org/wiki/The_Price_Is_Right): the\n",
        "[Showcase](https://en.wikipedia.org/wiki/The_Price_Is_Right#Showcase).\n",
        "You will be asked to make a plot of expected winnings by bid for a\n",
        "particular distribution of prize values.\n",
        "\n",
        "You should always start any computing with random numbers by setting a\n",
        "“seed,” which controls the sequence of numbers which are generated\n",
        "(since these are not *really* random, just “pseudorandom”). In Julia, we\n",
        "do this with the `Random.seed!()` function.\n",
        "\n",
        "``` julia\n",
        "Random.seed!(1)\n",
        "```\n",
        "\n",
        "    TaskLocalRNG()\n",
        "\n",
        "It doesn’t matter what seed you set, though different seeds might result\n",
        "in slightly different values. But setting a seed means every time your\n",
        "notebook is run, the answer will be the same.\n",
        "\n",
        "> **Seeds and Reproducing Solutions**\n",
        ">\n",
        "> If you don’t re-run your code in the same order or if you re-run the\n",
        "> same cell repeatedly, you will not get the same solution. If you’re\n",
        "> working on a specific problem, you might want to re-use\n",
        "> `Random.seed()` near any block of code you want to re-evaluate\n",
        "> repeatedly."
      ],
      "id": "d9d53606-3928-4992-bbf7-c7d140d2a956"
    },
    {
      "cell_type": "markdown",
      "metadata": {},
      "source": [
        "### Problem 1 (5 points)\n",
        "\n",
        "We want to know the probability of getting at least an 11 from rolling\n",
        "three fair, six-sided dice (this is actually an old Italian game called\n",
        "*passadieci*, which was analyzed by Galileo as one of the first examples\n",
        "of a rigorous study of probability)."
      ],
      "id": "bcdb5985-948f-42fa-8430-6ac1d896755e"
    },
    {
      "cell_type": "markdown",
      "metadata": {},
      "source": [
        "#### Problem 1.1 (1 point)\n",
        "\n",
        "Write a function called `passadieci()` to simulate this game, which will\n",
        "take as an input the number of realizations and output a vector of the\n",
        "sum of the three dice rolls for each realization."
      ],
      "id": "5b17806e-2f6e-454e-adc2-2e860c63af7a"
    },
    {
      "cell_type": "markdown",
      "metadata": {},
      "source": [
        "### Problem 1.2 (2 points)\n",
        "\n",
        "Generate 5,000 simulations of the game using your `passadieci()`\n",
        "function. Plot how the computed probability of winning the game changes\n",
        "as the number of simulations increases (you can do this by computing the\n",
        "frequency of wins for each additional simulation)."
      ],
      "id": "21d4bbe8-ccb4-4649-9d38-0d150854ea8e"
    },
    {
      "cell_type": "markdown",
      "metadata": {},
      "source": [
        "### Problem 1.3 (2 point)\n",
        "\n",
        "Based on your plot from Problem 1.2, how many simulations were needed\n",
        "for the win probability estimate to converge? What did you notice from\n",
        "your plot about the estimates prior to convergence?"
      ],
      "id": "51956b2a-d489-427a-8fd9-d25913fc9dba"
    },
    {
      "cell_type": "markdown",
      "metadata": {},
      "source": [
        "## Problem 2 (5 points)\n",
        "\n",
        "The Showcase is the final round of every episode of The Price is Right,\n",
        "matching the two big winners from the episode. Each contestant is shown\n",
        "a “showcase” of prizes, which are usually some combination of a trip, a\n",
        "motor vehicle, some furniture, and maybe some other stuff. They then\n",
        "each have to make a bid on the retail price of the showcase. The rules\n",
        "are:\n",
        "\n",
        "-   an overbid is an automatic loss;\n",
        "-   the contest who gets closest to the retail price wins their\n",
        "    showcase;\n",
        "-   if a contestant gets within \\$250 of the retail price and is closer\n",
        "    than their opponent, they win both showcases.\n",
        "\n",
        "Your goal is to find a wager which maximizes your expected winnings,\n",
        "which we may as well call utility, based on your assessment of the\n",
        "probability of your showcase retail price. We’ll assume that the\n",
        "distribution of all showcases offered by the show is given as truncated\n",
        "normal distribution, which means a normal distribution which has an\n",
        "upper and/or lower bound. `Distributions.jl` makes it easy to specify\n",
        "truncations on any distribution, not just normal distributions. For\n",
        "example, we’ll use this distribution for the showcase values:\n",
        "\n",
        "``` julia\n",
        "showcase_dist = truncated(Normal(31000, 4500), lower=5000, upper=42000)\n",
        "```\n",
        "\n",
        "    Truncated(Normal{Float64}(μ=31000.0, σ=4500.0); lower=5000.0, upper=42000.0)"
      ],
      "id": "7b1310ce-9a74-430a-bae6-0c7616b7a476"
    },
    {
      "cell_type": "markdown",
      "metadata": {},
      "source": [
        "#### Problem 2.1 (3 points)\n",
        "\n",
        "Write a function `showcase()` which takes in a bid value and uses Monte\n",
        "Carlo simulation to compute the expected value of the winnings. Make the\n",
        "following assumptions about your expected winnings if you don’t overbid:\n",
        "\n",
        "-   If you win both showcases, the value is the double of the single\n",
        "    showcase value.\n",
        "-   If you did not win both showcases but bid under the showcase value,\n",
        "    the probability of being outbid increases linearly as the distance\n",
        "    between your bid and the value increases (in other words, if you bid\n",
        "    the exact value, you win with probability 1, and if you bid \\$0, you\n",
        "    win with probability 0).\n",
        "\n",
        "How did you decide how many samples to use within the function?"
      ],
      "id": "a3bed6fe-b56a-4d7c-ac17-9ce1b0acd59f"
    },
    {
      "cell_type": "markdown",
      "metadata": {},
      "source": [
        "#### Problem 2.2 (2 points)\n",
        "\n",
        "Plot the expected winnings for bids ranging from \\$0 to \\$42,000. What\n",
        "do you notice?"
      ],
      "id": "f838c711-05ce-41b8-bdbd-f134ecb3824f"
    },
    {
      "cell_type": "markdown",
      "metadata": {},
      "source": [
        "## References\n",
        "\n",
        "Put any consulted sources here, including classmates you worked with/who\n",
        "helped you."
      ],
      "id": "36557097-3e9a-4fbc-a83d-21de7cce8eef"
    }
  ],
  "nbformat": 4,
  "nbformat_minor": 5,
  "metadata": {
    "kernelspec": {
      "name": "julia-1.9",
      "display_name": "Julia 1.9.3",
      "language": "julia"
    },
    "language_info": {
      "name": "julia",
      "file_extension": ".jl",
      "mimetype": "application/julia",
      "version": "1.9.3"
    }
  }
}