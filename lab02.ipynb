{
  "cells": [
    {
      "cell_type": "markdown",
      "metadata": {},
      "source": [
        "# BEE 4750 Lab 2: Uncertainty and Monte Carlo"
      ],
      "id": "5790ab82-bb30-4ff8-893d-ba1dbb5da14d"
    },
    {
      "cell_type": "markdown",
      "metadata": {},
      "source": [
        "**Name**:\n",
        "\n",
        "**ID**:"
      ],
      "id": "b6cc2e4b-ec61-4bb5-8fb9-d73a81d77777"
    },
    {
      "cell_type": "markdown",
      "metadata": {},
      "source": [
        "> **Due Date**\n",
        ">\n",
        "> Friday, 9/22/23, 9:00pm\n",
        "\n",
        "## Setup\n",
        "\n",
        "The following code should go at the top of most Julia scripts; it will\n",
        "load the local package environment and install any needed packages. You\n",
        "will see this often and shouldn’t need to touch it."
      ],
      "id": "9a9a015c-1380-42cc-8644-a2f8e5ab9a5b"
    },
    {
      "cell_type": "code",
      "execution_count": 1,
      "metadata": {},
      "outputs": [],
      "source": [
        "import Pkg\n",
        "Pkg.activate(\".\")\n",
        "Pkg.instantiate()"
      ],
      "id": "cd70005c"
    },
    {
      "cell_type": "code",
      "execution_count": 2,
      "metadata": {},
      "outputs": [],
      "source": [
        "using Random # random number generation\n",
        "using Distributions # probability distributions and interface\n",
        "using Statistics # basic statistical functions, including mean\n",
        "using Plots # plotting"
      ],
      "id": "a207f73c"
    },
    {
      "cell_type": "markdown",
      "metadata": {},
      "source": [
        "## Introduction\n",
        "\n",
        "In this lab, you will use Monte Carlo analysis to estimate the expected\n",
        "winnings for a couple of different games of chance.\n",
        "\n",
        "Monte Carlo methods involve the simulation of random numbers from\n",
        "probability distributions. In an environmental context, we often\n",
        "propagate these random numbers through some more complicated model and\n",
        "then compute a resulting statistic which is relevant for assessing\n",
        "performance or risk, such as an average outcome or a particular\n",
        "quantile.\n",
        "\n",
        "Julia provides a common interface for probability distributions with the\n",
        "[`Distributions.jl`\n",
        "package](https://juliastats.org/Distributions.jl/stable/). The basic\n",
        "workflow for sampling from a distribution is:\n",
        "\n",
        "1.  Set up the distribution. The specific syntax depends on the\n",
        "    distribution and what parameters are required, but the general call\n",
        "    is the similar. For a normal distribution or a uniform distribution,\n",
        "    the syntax is\n",
        "\n",
        "    ``` julia\n",
        "    # you don't have to name this \"normal_distribution\"\n",
        "    # μ is the mean and σ is the standard deviation\n",
        "    normal_distribution = Normal(μ, σ)\n",
        "    # a is the upper bound and b is the lower bound; these can be set to +Inf or -Inf for an unbounded distribution in one or both directions.\n",
        "    uniform_distribution = Uniform(a, b)\n",
        "    ```\n",
        "\n",
        "    There are lots of both\n",
        "    [univariate](https://juliastats.org/Distributions.jl/stable/univariate/#Index)\n",
        "    and\n",
        "    [multivariate](https://juliastats.org/Distributions.jl/stable/multivariate/)\n",
        "    distributions, as well as the ability to create your own, but we\n",
        "    won’t do anything too exotic here.\n",
        "\n",
        "2.  Draw samples. This uses the `rand()` command (which, when used\n",
        "    without a distribution, just samples uniformly from the interval\n",
        "    $[0, 1]$.) For example, to sample from our normal distribution\n",
        "    above:\n",
        "\n",
        "    ``` julia\n",
        "    # draw n samples\n",
        "    rand(normal_distribution, n)\n",
        "    ```\n",
        "\n",
        "Putting this together, let’s say that we wanted to simulate 100\n",
        "six-sided dice rolls. We could use a [Discrete Uniform\n",
        "distribution](https://juliastats.org/Distributions.jl/stable/univariate/#Distributions.DiscreteUniform)."
      ],
      "id": "94c5fa49-bd79-46bf-8c2a-489d43f825c5"
    },
    {
      "cell_type": "code",
      "execution_count": 3,
      "metadata": {},
      "outputs": [
        {
          "output_type": "display_data",
          "metadata": {},
          "data": {
            "text/plain": [
              "100-element Vector{Int64}:\n",
              " 6\n",
              " 2\n",
              " 5\n",
              " 1\n",
              " 5\n",
              " 6\n",
              " 4\n",
              " 3\n",
              " 1\n",
              " 6\n",
              " 5\n",
              " 6\n",
              " 1\n",
              " ⋮\n",
              " 3\n",
              " 3\n",
              " 1\n",
              " 5\n",
              " 3\n",
              " 6\n",
              " 2\n",
              " 4\n",
              " 1\n",
              " 4\n",
              " 2\n",
              " 2"
            ]
          }
        }
      ],
      "source": [
        "dice_dist = DiscreteUniform(1, 6) # can generate any integer between 1 and 6\n",
        "dice_rolls = rand(dice_dist, 100) # simulate rolls"
      ],
      "id": "160e7efe"
    },
    {
      "cell_type": "markdown",
      "metadata": {},
      "source": [
        "And then we can plot a histogram of these rolls:"
      ],
      "id": "4d76023b-58ed-402c-ab73-b83b7a3792bd"
    },
    {
      "cell_type": "code",
      "execution_count": 4,
      "metadata": {},
      "outputs": [
        {
          "output_type": "display_data",
          "metadata": {},
          "data": {
            "text/html": [
              "<img src=\"data:image/png;base64,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\" />"
            ]
          }
        }
      ],
      "source": [
        "histogram(dice_rolls, legend=:false, bins=6)\n",
        "ylabel!(\"Count\")\n",
        "xlabel!(\"Dice Value\")"
      ],
      "id": "bdd0b549"
    },
    {
      "cell_type": "markdown",
      "metadata": {},
      "source": [
        "**Remember to**:\n",
        "\n",
        "-   Evaluate all of your code cells, in order (using a `Run All`\n",
        "    command). This will make sure all output is visible and that the\n",
        "    code cells were evaluated in the correct order.\n",
        "-   Tag each of the problems when you submit to Gradescope; a 10%\n",
        "    penalty will be deducted if this is not done."
      ],
      "id": "910099ce-7111-4416-bb7e-1663f7935f79"
    },
    {
      "cell_type": "markdown",
      "metadata": {},
      "source": [
        "## Exercises (10 points)\n",
        "\n",
        "In Problem 1, you will compute the probability of getting a specific\n",
        "combination of multiple dice rolls. The focus will be on understanding\n",
        "how the Monte Carlo estimate changes based on the number of simulations.\n",
        "\n",
        "In Problem 2, we will implement the culmination of every episode of the\n",
        "long-running game show [The Price Is\n",
        "Right](https://en.wikipedia.org/wiki/The_Price_Is_Right): the\n",
        "[Showcase](https://en.wikipedia.org/wiki/The_Price_Is_Right#Showcase).\n",
        "You will be asked to make a plot of expected winnings by bid for a\n",
        "particular distribution of prize values.\n",
        "\n",
        "You should always start any computing with random numbers by setting a\n",
        "“seed,” which controls the sequence of numbers which are generated\n",
        "(since these are not *really* random, just “pseudorandom”). In Julia, we\n",
        "do this with the `Random.seed!()` function.\n",
        "\n",
        "``` julia\n",
        "Random.seed!(1)\n",
        "```\n",
        "\n",
        "    TaskLocalRNG()\n",
        "\n",
        "It doesn’t matter what seed you set, though different seeds might result\n",
        "in slightly different values. But setting a seed means every time your\n",
        "notebook is run, the answer will be the same.\n",
        "\n",
        "> **Seeds and Reproducing Solutions**\n",
        ">\n",
        "> If you don’t re-run your code in the same order or if you re-run the\n",
        "> same cell repeatedly, you will not get the same solution. If you’re\n",
        "> working on a specific problem, you might want to re-use\n",
        "> `Random.seed()` near any block of code you want to re-evaluate\n",
        "> repeatedly."
      ],
      "id": "e4d55fed-0470-43d1-8313-a3ef4b0ae959"
    },
    {
      "cell_type": "markdown",
      "metadata": {},
      "source": [
        "### Problem 1 (5 points)\n",
        "\n",
        "We want to know the probability of getting at least an 11 from rolling\n",
        "three fair, six-sided dice (this is actually an old Italian game called\n",
        "*passadieci*, which was analyzed by Galileo as one of the first examples\n",
        "of a rigorous study of probability)."
      ],
      "id": "25456d36-de17-48e8-9fe7-b619e735e9d3"
    },
    {
      "cell_type": "markdown",
      "metadata": {},
      "source": [
        "#### Problem 1.1 (1 point)\n",
        "\n",
        "Write a function called `passadieci()` to simulate this game, which will\n",
        "take as an input the number of realizations and output a vector of the\n",
        "sum of the three dice rolls for each realization."
      ],
      "id": "fef1f657-4624-4fc2-bac5-0d20788fc29e"
    },
    {
      "cell_type": "markdown",
      "metadata": {},
      "source": [
        "### Problem 1.2 (2 points)\n",
        "\n",
        "Generate 5,000 simulations of the game using your `passadieci()`\n",
        "function. Plot how the computed probability of winning the game changes\n",
        "as the number of simulations increases (you can do this by computing the\n",
        "frequency of wins for each additional simulation)."
      ],
      "id": "a1ef5d4e-5840-4783-b408-5a9bc3241974"
    },
    {
      "cell_type": "markdown",
      "metadata": {},
      "source": [
        "### Problem 1.3 (2 point)\n",
        "\n",
        "Based on your plot from Problem 1.2, how many simulations were needed\n",
        "for the win probability estimate to converge? What did you notice from\n",
        "your plot about the estimates prior to convergence?"
      ],
      "id": "9184a9b0-815d-4c2f-a58e-e48817bcc3ae"
    },
    {
      "cell_type": "markdown",
      "metadata": {},
      "source": [
        "## Problem 2 (5 points)\n",
        "\n",
        "The Showcase is the final round of every episode of The Price is Right,\n",
        "matching the two big winners from the episode. Each contestant is shown\n",
        "a “showcase” of prizes, which are usually some combination of a trip, a\n",
        "motor vehicle, some furniture, and maybe some other stuff. They then\n",
        "each have to make a bid on the retail price of the showcase. The rules\n",
        "are:\n",
        "\n",
        "-   an overbid is an automatic loss;\n",
        "-   the contest who gets closest to the retail price wins their\n",
        "    showcase;\n",
        "-   if a contestant gets within \\$250 of the retail price and is closer\n",
        "    than their opponent, they win both showcases.\n",
        "\n",
        "Your goal is to find a wager which maximizes your expected winnings,\n",
        "which we may as well call utility, based on your assessment of the\n",
        "probability of your showcase retail price. We’ll assume that the\n",
        "distribution of all showcases offered by the show is given as truncated\n",
        "normal distribution, which means a normal distribution which has an\n",
        "upper and/or lower bound. `Distributions.jl` makes it easy to specify\n",
        "truncations on any distribution, not just normal distributions. For\n",
        "example, we’ll use this distribution for the showcase values:\n",
        "\n",
        "``` julia\n",
        "showcase_dist = truncated(Normal(31000, 4500), lower=5000, upper=42000)\n",
        "```\n",
        "\n",
        "    Truncated(Normal{Float64}(μ=31000.0, σ=4500.0); lower=5000.0, upper=42000.0)"
      ],
      "id": "b21f4077-03de-47c0-809a-b7c5e329bce5"
    },
    {
      "cell_type": "markdown",
      "metadata": {},
      "source": [
        "#### Problem 2.1 (3 points)\n",
        "\n",
        "Write a function `showcase()` which takes in a bid value and uses Monte\n",
        "Carlo simulation to compute the expected value of the winnings. Make the\n",
        "following assumptions about your expected winnings if you don’t overbid:\n",
        "\n",
        "-   If you win both showcases, the value is the double of the single\n",
        "    showcase value.\n",
        "-   If you did not win both showcases but bid under the showcase value,\n",
        "    the probability of being outbid increases linearly as the distance\n",
        "    between your bid and the value increases (in other words, if you bid\n",
        "    the exact value, you win with probability 1, and if you bid \\$0, you\n",
        "    win with probability 0).\n",
        "\n",
        "How did you decide how many samples to use within the function?"
      ],
      "id": "ba215820-c890-477d-aac8-5c103111b926"
    },
    {
      "cell_type": "markdown",
      "metadata": {},
      "source": [
        "#### Problem 2.2 (2 points)\n",
        "\n",
        "Plot the expected winnings for bids ranging from \\$0 to \\$42,000. What\n",
        "do you notice?"
      ],
      "id": "0ddcc1cd-0cba-4c4a-9189-816a2e6419e6"
    },
    {
      "cell_type": "markdown",
      "metadata": {},
      "source": [
        "## References\n",
        "\n",
        "Put any consulted sources here, including classmates you worked with/who\n",
        "helped you."
      ],
      "id": "0ce91d0b-29e9-42e2-9ef7-47f4855c1100"
    }
  ],
  "nbformat": 4,
  "nbformat_minor": 5,
  "metadata": {
    "kernelspec": {
      "name": "julia-1.9",
      "display_name": "Julia 1.9.3",
      "language": "julia"
    },
    "language_info": {
      "name": "julia",
      "file_extension": ".jl",
      "mimetype": "application/julia",
      "version": "1.9.3"
    }
  }
}